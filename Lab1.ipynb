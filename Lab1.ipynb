{
 "cells": [
  {
   "cell_type": "markdown",
   "id": "8d18f640-50a2-4f6d-895a-cc5fdd95b42f",
   "metadata": {},
   "source": [
    "# Q1"
   ]
  },
  {
   "cell_type": "code",
   "execution_count": 1,
   "id": "cafbffb1-26d7-4e66-b8c1-1d7db4455eed",
   "metadata": {},
   "outputs": [
    {
     "name": "stdin",
     "output_type": "stream",
     "text": [
      " govardha\n"
     ]
    },
    {
     "name": "stdout",
     "output_type": "stream",
     "text": [
      "No. of vowels 3\n",
      "No. of consonents 5\n"
     ]
    }
   ],
   "source": [
    "v='aeiou'\n",
    "c='bcdfghjklmnpqrstvwxyz'\n",
    "s=input()\n",
    "count=0\n",
    "count1=0\n",
    "for x in s:\n",
    "    if x in v:\n",
    "        count+=1\n",
    "    if x in c:\n",
    "        count1+=1\n",
    "print('No. of vowels',count)\n",
    "print('No. of consonents',count1)\n"
   ]
  },
  {
   "cell_type": "markdown",
   "id": "b862b1ae-253b-432a-b001-dc5e78d753b7",
   "metadata": {},
   "source": [
    "# Q2"
   ]
  },
  {
   "cell_type": "code",
   "execution_count": 2,
   "id": "789840b5-657f-46d7-939a-de01a03552ac",
   "metadata": {},
   "outputs": [
    {
     "name": "stdout",
     "output_type": "stream",
     "text": [
      "Matrix AB:\n",
      "[58, 64]\n",
      "[139, 154]\n"
     ]
    }
   ],
   "source": [
    "def matrixmul(a,b):\n",
    "    m=len(a)\n",
    "    n=len(a[0])\n",
    "    p=len(b[0])\n",
    "    if len(b)!=n:\n",
    "        return \"matrices are not multipliable\"\n",
    "    c=[]\n",
    "    for i in range(m):\n",
    "        c.append([0]*p)\n",
    "    for i in range(m):\n",
    "        for j in range(p):\n",
    "            for k in range(n):\n",
    "                c[i][j]+=a[i][k]*b[k][j]\n",
    "    return c\n",
    "A=[[1,2,3],[4,5,6]]\n",
    "B=[[7,8],[9,10],[11,12]]\n",
    "result=matrixmul(A,B)\n",
    "if type(result) == str:\n",
    "    print(result)\n",
    "else:\n",
    "    print(\"Matrix AB:\")\n",
    "    for row in result:\n",
    "        print(row)\n"
   ]
  },
  {
   "cell_type": "markdown",
   "id": "4e83e0de-1bff-4ae8-82b8-09e3b674ad00",
   "metadata": {},
   "source": [
    "# Q3"
   ]
  },
  {
   "cell_type": "code",
   "execution_count": 5,
   "id": "b09a7600-062b-4020-8a2f-401944650dab",
   "metadata": {},
   "outputs": [
    {
     "name": "stdin",
     "output_type": "stream",
     "text": [
      "Enter the first list of integers:  2 3 4 5\n",
      "Enter the second list of integers:  2 8 1\n"
     ]
    },
    {
     "name": "stdout",
     "output_type": "stream",
     "text": [
      "Number of common elements: 1\n"
     ]
    }
   ],
   "source": [
    "def get_int_list(prompt):\n",
    "    while True:\n",
    "        try:\n",
    "            return list(map(int, input(prompt).split()))\n",
    "        except ValueError:\n",
    "            print(\"Please enter a list of integers separated by spaces.\")\n",
    "\n",
    "l1 = get_int_list(\"Enter the first list of integers: \")\n",
    "l2 = get_int_list(\"Enter the second list of integers: \")\n",
    "\n",
    "count = sum(1 for i in l1 if i in l2)\n",
    "print(f\"Number of common elements: {count}\")\n",
    "\n"
   ]
  },
  {
   "cell_type": "markdown",
   "id": "8a839608-90fd-415e-be83-7dc0a8c20aa1",
   "metadata": {},
   "source": [
    "# Q4"
   ]
  },
  {
   "cell_type": "code",
   "execution_count": 6,
   "id": "ef4801a1-22f4-4e08-b3f1-5e99d73516f0",
   "metadata": {},
   "outputs": [
    {
     "name": "stdin",
     "output_type": "stream",
     "text": [
      "Enter the no. rows of the matrix:  2\n",
      "Enter the no. columns of the matrix:  2\n"
     ]
    },
    {
     "name": "stdout",
     "output_type": "stream",
     "text": [
      "Enter the elements of the matrix: \n"
     ]
    },
    {
     "name": "stdin",
     "output_type": "stream",
     "text": [
      "Element [1][1]:  1\n",
      "Element [1][2]:  2\n",
      "Element [2][1]:  3\n",
      "Element [2][2]:  4\n"
     ]
    },
    {
     "name": "stdout",
     "output_type": "stream",
     "text": [
      "\n",
      "Transposed matrix:\n",
      "[1, 3]\n",
      "[2, 4]\n"
     ]
    }
   ],
   "source": [
    "def transpose(matrix, rows, cols):\n",
    "    transposed_matrix = [[0 for _ in range(rows)] for _ in range(rows)]\n",
    "    for i in range(rows):\n",
    "        for j in range(cols):\n",
    "            transposed_matrix[j][i] = matrix[i][j]\n",
    "\n",
    "    return transposed_matrix\n",
    "rows = int(input(\"Enter the no. rows of the matrix: \"))\n",
    "cols = int(input(\"Enter the no. columns of the matrix: \"))\n",
    "matrix = []\n",
    "\n",
    "print(\"Enter the elements of the matrix: \")\n",
    "for i in range(rows):\n",
    "    a = []\n",
    "    for j in range(cols):\n",
    "        a.append(int(input(f\"Element [{i+1}][{j+1}]: \")))\n",
    "    matrix.append(a)\n",
    "\n",
    "# Transpose the matrix\n",
    "transposed = transpose(matrix, rows, cols)\n",
    "print(\"\\nTransposed matrix:\")\n",
    "for row in transposed:\n",
    "    print(row)\n"
   ]
  },
  {
   "cell_type": "code",
   "execution_count": null,
   "id": "aaf90a43-7fba-40f3-ada3-ecd8afccfbd2",
   "metadata": {},
   "outputs": [],
   "source": []
  }
 ],
 "metadata": {
  "kernelspec": {
   "display_name": "Python 3 (ipykernel)",
   "language": "python",
   "name": "python3"
  },
  "language_info": {
   "codemirror_mode": {
    "name": "ipython",
    "version": 3
   },
   "file_extension": ".py",
   "mimetype": "text/x-python",
   "name": "python",
   "nbconvert_exporter": "python",
   "pygments_lexer": "ipython3",
   "version": "3.12.4"
  }
 },
 "nbformat": 4,
 "nbformat_minor": 5
}
